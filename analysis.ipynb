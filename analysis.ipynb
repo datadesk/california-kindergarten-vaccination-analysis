{
 "cells": [
  {
   "cell_type": "markdown",
   "metadata": {},
   "source": [
    "# California kindergarten vaccination analysis"
   ]
  },
  {
   "cell_type": "markdown",
   "metadata": {},
   "source": [
    "By Sandra Poindexter and [Ben Welsh](mailto:ben.welsh@latimes.com)\n",
    "\n",
    "This notebook documents that analysis conducted for the August 13, 2017, _Los Angeles Times_ story [\"Despite California's strict new law, hundreds of schools still don't have enough vaccinated kids.\"](http://www.latimes.com/health/la-me-kindergarten-vaccination-20170813-htmlstory.html)\n",
    "\n",
    "Even with a new law that has boosted kindergarten vaccination rates to record highs, hundreds of schools across California still have so many children lacking full immunization that they pose an increased risk of disease outbreaks, the Times analysis of state data. This was caused in part by a dramatic increase in doctors signing notes that allow students to skip their shots."
   ]
  },
  {
   "cell_type": "markdown",
   "metadata": {},
   "source": [
    "## How we did it"
   ]
  },
  {
   "cell_type": "markdown",
   "metadata": {},
   "source": [
    "The collection, transformation and analysis of the records that underpin the story are presented below."
   ]
  },
  {
   "cell_type": "markdown",
   "metadata": {},
   "source": [
    "### Import Python tools"
   ]
  },
  {
   "cell_type": "code",
   "execution_count": 42,
   "metadata": {
    "collapsed": true
   },
   "outputs": [],
   "source": [
    "import re\n",
    "import warnings\n",
    "import numpy as np\n",
    "import pandas as pd"
   ]
  },
  {
   "cell_type": "code",
   "execution_count": 43,
   "metadata": {
    "collapsed": true
   },
   "outputs": [],
   "source": [
    "warnings.simplefilter(\"ignore\")"
   ]
  },
  {
   "cell_type": "code",
   "execution_count": 2,
   "metadata": {
    "collapsed": true
   },
   "outputs": [],
   "source": [
    "pd.options.display.max_rows = None\n",
    "pd.options.display.max_columns = None"
   ]
  },
  {
   "cell_type": "markdown",
   "metadata": {},
   "source": [
    "### Download source data\n",
    "\n",
    "The California Department of Public Health has published school-level data in Microsoft Excel format. The data is provided in two tabs. They are imported and combined below."
   ]
  },
  {
   "cell_type": "code",
   "execution_count": 3,
   "metadata": {
    "collapsed": true
   },
   "outputs": [],
   "source": [
    "raw_sheet1_df = pd.read_excel(\n",
    "    \"https://archive.cdph.ca.gov/programs/immunize/Documents/2016-17_CA_Kindergarten_Data.xlsx\",\n",
    "    sheetname=\"Enrollment 20 or More\",\n",
    "    skiprows=3,\n",
    "    names=[\n",
    "        'school_code',             \n",
    "        'county',              \n",
    "        'public_or_private',              \n",
    "        'district',            \n",
    "        'city',\n",
    "        'name',           \n",
    "        'enrollment',            \n",
    "        'number_up_to_date',             \n",
    "        'percent_up_to_date',             \n",
    "        'number_conditional_entrant',            \n",
    "        'percent_conditional_entrant',            \n",
    "        'number_permanent_medical_exemption',             \n",
    "        'percent_permanent_medical_exemption',             \n",
    "        'number_personal_belief_exemption',             \n",
    "        'percent_personal_belief_exemption',             \n",
    "        'number_others',    \n",
    "        'percent_others',    \n",
    "        'number_overdue',         \n",
    "        'percent_overdue',         \n",
    "        'number_dtp',             \n",
    "        'percent_dtp',             \n",
    "        'number_polio',           \n",
    "        'percent_polio',           \n",
    "        'number_mmr',             \n",
    "        'percent_mmr',             \n",
    "        'number_hepb',            \n",
    "        'percent_hepb',            \n",
    "        'number_varicella',             \n",
    "        'percent_varicella',             \n",
    "        'reported'                \n",
    "    ],\n",
    "    dtype={\n",
    "        'school_code': str  # The state's school identifier has leading zeroes so this is important.\n",
    "    }\n",
    ")"
   ]
  },
  {
   "cell_type": "markdown",
   "metadata": {},
   "source": [
    "Replace the state's null values with the proper pandas' objects"
   ]
  },
  {
   "cell_type": "code",
   "execution_count": 4,
   "metadata": {
    "collapsed": true
   },
   "outputs": [],
   "source": [
    "raw_sheet1_df.replace(\"--*\", np.NaN, inplace=True)"
   ]
  },
  {
   "cell_type": "markdown",
   "metadata": {},
   "source": [
    "Label the source sheet of these records"
   ]
  },
  {
   "cell_type": "code",
   "execution_count": 5,
   "metadata": {
    "collapsed": true
   },
   "outputs": [],
   "source": [
    "raw_sheet1_df['sheet_name'] = 'Enrollment 20 or More'"
   ]
  },
  {
   "cell_type": "markdown",
   "metadata": {},
   "source": [
    "Kill out any null rows, which should also removes the footnotes at the bottom of the file."
   ]
  },
  {
   "cell_type": "code",
   "execution_count": 6,
   "metadata": {
    "collapsed": true
   },
   "outputs": [],
   "source": [
    "raw_sheet1_df = raw_sheet1_df[~raw_sheet1_df.county.isnull()]"
   ]
  },
  {
   "cell_type": "markdown",
   "metadata": {},
   "source": [
    "Import the second tab, which lists schools with under 20 students. Their results were withheld by the state."
   ]
  },
  {
   "cell_type": "code",
   "execution_count": 8,
   "metadata": {},
   "outputs": [],
   "source": [
    "raw_sheet2_df = pd.read_excel(\n",
    "    \"https://archive.cdph.ca.gov/programs/immunize/Documents/2016-17_CA_Kindergarten_Data.xlsx\",\n",
    "    sheetname=\"Enrollment 19 or Less\",\n",
    "    skiprows=4,\n",
    "    names=[\n",
    "        'school_code',             \n",
    "        'county',              \n",
    "        'public_or_private',              \n",
    "        'district',            \n",
    "        'city',\n",
    "        'name',           \n",
    "        'enrollment',            \n",
    "        'reported'                \n",
    "    ],\n",
    "    dtype={'school_code':str}\n",
    ")"
   ]
  },
  {
   "cell_type": "markdown",
   "metadata": {},
   "source": [
    "Label this sheet"
   ]
  },
  {
   "cell_type": "code",
   "execution_count": 9,
   "metadata": {
    "collapsed": true
   },
   "outputs": [],
   "source": [
    "raw_sheet2_df['sheet_name'] = 'Enrollment 19 or Less'"
   ]
  },
  {
   "cell_type": "markdown",
   "metadata": {},
   "source": [
    "Combine the two sheets into one dataframe"
   ]
  },
  {
   "cell_type": "code",
   "execution_count": 10,
   "metadata": {
    "collapsed": true
   },
   "outputs": [],
   "source": [
    "raw_df = pd.concat([raw_sheet1_df, raw_sheet2_df], axis=0)"
   ]
  },
  {
   "cell_type": "markdown",
   "metadata": {},
   "source": [
    "### Prepare the data file for analysis"
   ]
  },
  {
   "cell_type": "markdown",
   "metadata": {},
   "source": [
    "Trim the dataset down to only those schools with reported data and 20 or more students. The schools left out do not have any data to analyze."
   ]
  },
  {
   "cell_type": "code",
   "execution_count": 11,
   "metadata": {
    "collapsed": true
   },
   "outputs": [],
   "source": [
    "analysis_df = raw_df[\n",
    "    (raw_df.reported == 'Y') &\n",
    "    (raw_df.enrollment >= 20)\n",
    "]"
   ]
  },
  {
   "cell_type": "markdown",
   "metadata": {},
   "source": [
    "Next we convert the data values published by the state into integers we can analyze.\n",
    "\n",
    "As a \"precaution for student de-identification\" the state rounded off values when percentages surpassed thresholds at or above 95% of school enrollment. In response, our analysis will use a conservative 90% immunization rate as the threshold to group and classify schools."
   ]
  },
  {
   "cell_type": "code",
   "execution_count": 12,
   "metadata": {
    "collapsed": true
   },
   "outputs": [],
   "source": [
    "def clean_ints(val):\n",
    "    \"\"\"\n",
    "    Accepts a value string and converts it to an integer.\n",
    "    \n",
    "    Values that have been obscured as values like ≥95 and ≤5 are returned as 95 and 5.\n",
    "    \"\"\"\n",
    "    # If the value is already a float, just return it.\n",
    "    if isinstance(val, float):\n",
    "        return val\n",
    "    # If it's null, return a NaN object\n",
    "    if pd.isnull(val):\n",
    "        return np.NaN\n",
    "    # Otherwise, try to parse out the integer from the state's string value\n",
    "    number = re.search(r'\\d+', val)\n",
    "    # If we find an integer, convert it and return the value\n",
    "    if number:\n",
    "        return int(number.group(0))\n",
    "    # Otherwise return a NaN null value\n",
    "    return np.NaN"
   ]
  },
  {
   "cell_type": "markdown",
   "metadata": {},
   "source": [
    "Convert the data columns we will analyze into integers"
   ]
  },
  {
   "cell_type": "code",
   "execution_count": 15,
   "metadata": {},
   "outputs": [],
   "source": [
    "analysis_df.loc[:, 'percent_up_to_date_int'] = analysis_df.percent_up_to_date.apply(clean_ints)"
   ]
  },
  {
   "cell_type": "code",
   "execution_count": 17,
   "metadata": {},
   "outputs": [],
   "source": [
    "analysis_df.loc[:, 'percent_permanent_medical_exemption_int'] = analysis_df.percent_permanent_medical_exemption.apply(clean_ints)"
   ]
  },
  {
   "cell_type": "markdown",
   "metadata": {},
   "source": [
    "### Analyze the data"
   ]
  },
  {
   "cell_type": "markdown",
   "metadata": {},
   "source": [
    "The dataset is now prepared for analysis. Next we will present the findings from the story alongside the code that supports each claim."
   ]
  },
  {
   "cell_type": "markdown",
   "metadata": {},
   "source": [
    "#### Finding: The analysis included about 6,500 schools with 20 or more kindergartners."
   ]
  },
  {
   "cell_type": "code",
   "execution_count": 18,
   "metadata": {},
   "outputs": [
    {
     "data": {
      "text/plain": [
       "6469"
      ]
     },
     "execution_count": 18,
     "metadata": {},
     "output_type": "execute_result"
    }
   ],
   "source": [
    "len(analysis_df)"
   ]
  },
  {
   "cell_type": "markdown",
   "metadata": {
    "collapsed": true
   },
   "source": [
    "#### Finding: At nearly 750 schools, 90% or fewer kindergardeners had been fully vaccinated last year"
   ]
  },
  {
   "cell_type": "code",
   "execution_count": 19,
   "metadata": {
    "collapsed": true
   },
   "outputs": [],
   "source": [
    "under_90 = analysis_df[analysis_df.percent_up_to_date_int <= 90]"
   ]
  },
  {
   "cell_type": "code",
   "execution_count": 20,
   "metadata": {},
   "outputs": [
    {
     "data": {
      "text/plain": [
       "739"
      ]
     },
     "execution_count": 20,
     "metadata": {},
     "output_type": "execute_result"
    }
   ],
   "source": [
    "len(under_90)"
   ]
  },
  {
   "cell_type": "markdown",
   "metadata": {},
   "source": [
    "#### Finding: In the school year that began last fall, the law's first year, the number of kindergartners in California with medical exemptions tripled, the analysis found."
   ]
  },
  {
   "cell_type": "markdown",
   "metadata": {},
   "source": [
    "This finding is drawn from a summary report published by the California Department of Public Health. It cannot be reproduced with this dataset because the state has withheld some values."
   ]
  },
  {
   "cell_type": "markdown",
   "metadata": {
    "collapsed": true
   },
   "source": [
    "![](./input/pme_totals.png)"
   ]
  },
  {
   "cell_type": "code",
   "execution_count": 21,
   "metadata": {},
   "outputs": [
    {
     "data": {
      "text/plain": [
       "3.061224489795918"
      ]
     },
     "execution_count": 21,
     "metadata": {},
     "output_type": "execute_result"
    }
   ],
   "source": [
    "2850 / 931.0"
   ]
  },
  {
   "cell_type": "markdown",
   "metadata": {},
   "source": [
    "#### Finding: At 58 schools, 10% or more kindergartners had medical exemptions last fall. The rate topped 20% at seven schools."
   ]
  },
  {
   "cell_type": "markdown",
   "metadata": {},
   "source": [
    "First with the 10 percent cutoff"
   ]
  },
  {
   "cell_type": "code",
   "execution_count": 22,
   "metadata": {
    "collapsed": true
   },
   "outputs": [],
   "source": [
    "over_10_pme = analysis_df[analysis_df.percent_permanent_medical_exemption_int >= 10]"
   ]
  },
  {
   "cell_type": "code",
   "execution_count": 23,
   "metadata": {},
   "outputs": [
    {
     "data": {
      "text/plain": [
       "58"
      ]
     },
     "execution_count": 23,
     "metadata": {},
     "output_type": "execute_result"
    }
   ],
   "source": [
    "len(over_10_pme)"
   ]
  },
  {
   "cell_type": "markdown",
   "metadata": {},
   "source": [
    "Again with 20% as the cutoff"
   ]
  },
  {
   "cell_type": "code",
   "execution_count": 24,
   "metadata": {
    "collapsed": true
   },
   "outputs": [],
   "source": [
    "over_20_pme = analysis_df[analysis_df.percent_permanent_medical_exemption_int >= 20]"
   ]
  },
  {
   "cell_type": "code",
   "execution_count": 25,
   "metadata": {},
   "outputs": [
    {
     "data": {
      "text/plain": [
       "7"
      ]
     },
     "execution_count": 25,
     "metadata": {},
     "output_type": "execute_result"
    }
   ],
   "source": [
    "len(over_20_pme)"
   ]
  },
  {
   "cell_type": "markdown",
   "metadata": {},
   "source": [
    "#### Finding: At Sebastopol Independent Charter in Sonoma County, 11 of 45 kindergartners had a medical exemption from vaccination last school year. An additional 17 had personal belief exemptions that rolled over from the previous year. All together, only about a third of the class was fully vaccinated, among the lowest rates in the state."
   ]
  },
  {
   "cell_type": "code",
   "execution_count": 26,
   "metadata": {},
   "outputs": [
    {
     "data": {
      "text/html": [
       "<div>\n",
       "<style>\n",
       "    .dataframe thead tr:only-child th {\n",
       "        text-align: right;\n",
       "    }\n",
       "\n",
       "    .dataframe thead th {\n",
       "        text-align: left;\n",
       "    }\n",
       "\n",
       "    .dataframe tbody tr th {\n",
       "        vertical-align: top;\n",
       "    }\n",
       "</style>\n",
       "<table border=\"1\" class=\"dataframe\">\n",
       "  <thead>\n",
       "    <tr style=\"text-align: right;\">\n",
       "      <th></th>\n",
       "      <th>name</th>\n",
       "      <th>county</th>\n",
       "      <th>enrollment</th>\n",
       "      <th>number_up_to_date</th>\n",
       "      <th>number_permanent_medical_exemption</th>\n",
       "      <th>number_personal_belief_exemption</th>\n",
       "      <th>percent_up_to_date</th>\n",
       "    </tr>\n",
       "  </thead>\n",
       "  <tbody>\n",
       "    <tr>\n",
       "      <th>6375</th>\n",
       "      <td>SEBASTOPOL INDEPENDENT CHARTER</td>\n",
       "      <td>SONOMA</td>\n",
       "      <td>45.0</td>\n",
       "      <td>12</td>\n",
       "      <td>11</td>\n",
       "      <td>17</td>\n",
       "      <td>27</td>\n",
       "    </tr>\n",
       "  </tbody>\n",
       "</table>\n",
       "</div>"
      ],
      "text/plain": [
       "                                name  county  enrollment number_up_to_date  \\\n",
       "6375  SEBASTOPOL INDEPENDENT CHARTER  SONOMA        45.0                12   \n",
       "\n",
       "     number_permanent_medical_exemption number_personal_belief_exemption  \\\n",
       "6375                                 11                               17   \n",
       "\n",
       "     percent_up_to_date  \n",
       "6375                 27  "
      ]
     },
     "execution_count": 26,
     "metadata": {},
     "output_type": "execute_result"
    }
   ],
   "source": [
    "analysis_df[analysis_df.name == 'SEBASTOPOL INDEPENDENT CHARTER'][[\n",
    "    'name',\n",
    "    'county',\n",
    "    'enrollment',\n",
    "    'number_up_to_date',\n",
    "    'number_permanent_medical_exemption',\n",
    "    'number_personal_belief_exemption',\n",
    "    'percent_up_to_date'\n",
    "]]"
   ]
  },
  {
   "cell_type": "markdown",
   "metadata": {},
   "source": [
    "#### Finding: Statewide, private and charter schools account for the majority of schools where 90% or fewer kindergartners had received all their shots."
   ]
  },
  {
   "cell_type": "markdown",
   "metadata": {},
   "source": [
    "This finding requires merging in the state's public school roster, which indicates which public schools are charter operated. That file was previously downloaded from [this page](http://www.cde.ca.gov/ds/si/ds/pubschls.asp)."
   ]
  },
  {
   "cell_type": "code",
   "execution_count": 27,
   "metadata": {
    "collapsed": true
   },
   "outputs": [],
   "source": [
    "public_school_roster = pd.read_csv(\"./input/public_schools.csv\", dtype={'school_code': str})"
   ]
  },
  {
   "cell_type": "markdown",
   "metadata": {},
   "source": [
    "Merge that with our list of schools with a vaccination rate lower than 90%."
   ]
  },
  {
   "cell_type": "code",
   "execution_count": 28,
   "metadata": {
    "collapsed": true
   },
   "outputs": [],
   "source": [
    "under_90_with_type = pd.merge(\n",
    "    under_90,\n",
    "    public_school_roster[['school_code', 'is_charter']],\n",
    "    on=\"school_code\",\n",
    "    how=\"left\"\n",
    ")"
   ]
  },
  {
   "cell_type": "markdown",
   "metadata": {},
   "source": [
    "Classify schools as public, private or charter."
   ]
  },
  {
   "cell_type": "code",
   "execution_count": 29,
   "metadata": {
    "collapsed": true
   },
   "outputs": [],
   "source": [
    "def get_school_type(row):\n",
    "    \"\"\"\n",
    "    Classifies schools as public, private or charter.\n",
    "    \"\"\"\n",
    "    # If the row is null, return a NaN\n",
    "    if pd.isnull(row.public_or_private):\n",
    "        return np.NaN\n",
    "    # If the vaccination data says the school is private, we will classify it as private\n",
    "    if row.public_or_private == 'PRIVATE':\n",
    "        return 'private'\n",
    "    # If the school is public ...\n",
    "    if row.public_or_private == 'PUBLIC':\n",
    "        # ... if the public school roster says it's a charter, we classify it that way\n",
    "        if row.is_charter == 'Y':\n",
    "            return 'charter'\n",
    "        # ... otherwise call it a public school\n",
    "        else:\n",
    "            return 'public'"
   ]
  },
  {
   "cell_type": "code",
   "execution_count": 31,
   "metadata": {},
   "outputs": [],
   "source": [
    "under_90_with_type['school_type'] = under_90_with_type.apply(get_school_type, axis=1)"
   ]
  },
  {
   "cell_type": "markdown",
   "metadata": {},
   "source": [
    "Count under 90 schools by type"
   ]
  },
  {
   "cell_type": "code",
   "execution_count": 32,
   "metadata": {
    "collapsed": true
   },
   "outputs": [],
   "source": [
    "under_90_by_type = under_90_with_type.school_type.value_counts().reset_index()"
   ]
  },
  {
   "cell_type": "code",
   "execution_count": 33,
   "metadata": {
    "collapsed": true
   },
   "outputs": [],
   "source": [
    "under_90_by_type['percent'] = under_90_by_type.school_type / under_90_by_type.school_type.sum()"
   ]
  },
  {
   "cell_type": "code",
   "execution_count": 34,
   "metadata": {},
   "outputs": [
    {
     "data": {
      "text/html": [
       "<div>\n",
       "<style>\n",
       "    .dataframe thead tr:only-child th {\n",
       "        text-align: right;\n",
       "    }\n",
       "\n",
       "    .dataframe thead th {\n",
       "        text-align: left;\n",
       "    }\n",
       "\n",
       "    .dataframe tbody tr th {\n",
       "        vertical-align: top;\n",
       "    }\n",
       "</style>\n",
       "<table border=\"1\" class=\"dataframe\">\n",
       "  <thead>\n",
       "    <tr style=\"text-align: right;\">\n",
       "      <th></th>\n",
       "      <th>index</th>\n",
       "      <th>school_type</th>\n",
       "      <th>percent</th>\n",
       "    </tr>\n",
       "  </thead>\n",
       "  <tbody>\n",
       "    <tr>\n",
       "      <th>0</th>\n",
       "      <td>public</td>\n",
       "      <td>362</td>\n",
       "      <td>0.485255</td>\n",
       "    </tr>\n",
       "    <tr>\n",
       "      <th>1</th>\n",
       "      <td>private</td>\n",
       "      <td>209</td>\n",
       "      <td>0.280161</td>\n",
       "    </tr>\n",
       "    <tr>\n",
       "      <th>2</th>\n",
       "      <td>charter</td>\n",
       "      <td>175</td>\n",
       "      <td>0.234584</td>\n",
       "    </tr>\n",
       "  </tbody>\n",
       "</table>\n",
       "</div>"
      ],
      "text/plain": [
       "     index  school_type   percent\n",
       "0   public          362  0.485255\n",
       "1  private          209  0.280161\n",
       "2  charter          175  0.234584"
      ]
     },
     "execution_count": 34,
     "metadata": {},
     "output_type": "execute_result"
    }
   ],
   "source": [
    "under_90_by_type"
   ]
  },
  {
   "cell_type": "markdown",
   "metadata": {},
   "source": [
    "#### Finding: A third of the schools with low vaccination rates where in Los Angeles County, followed by San Diego and Orange. "
   ]
  },
  {
   "cell_type": "markdown",
   "metadata": {},
   "source": [
    "Regroup the same dataset by county"
   ]
  },
  {
   "cell_type": "code",
   "execution_count": 35,
   "metadata": {
    "collapsed": true
   },
   "outputs": [],
   "source": [
    "under_90_by_county = under_90.groupby(\"county\").agg(dict(school_code=\"count\")).reset_index()"
   ]
  },
  {
   "cell_type": "code",
   "execution_count": 36,
   "metadata": {
    "collapsed": true
   },
   "outputs": [],
   "source": [
    "under_90_by_county['percent'] = under_90_by_county.school_code / under_90_by_county.school_code.sum()"
   ]
  },
  {
   "cell_type": "code",
   "execution_count": 37,
   "metadata": {},
   "outputs": [
    {
     "data": {
      "text/html": [
       "<div>\n",
       "<style>\n",
       "    .dataframe thead tr:only-child th {\n",
       "        text-align: right;\n",
       "    }\n",
       "\n",
       "    .dataframe thead th {\n",
       "        text-align: left;\n",
       "    }\n",
       "\n",
       "    .dataframe tbody tr th {\n",
       "        vertical-align: top;\n",
       "    }\n",
       "</style>\n",
       "<table border=\"1\" class=\"dataframe\">\n",
       "  <thead>\n",
       "    <tr style=\"text-align: right;\">\n",
       "      <th></th>\n",
       "      <th>county</th>\n",
       "      <th>school_code</th>\n",
       "      <th>percent</th>\n",
       "    </tr>\n",
       "  </thead>\n",
       "  <tbody>\n",
       "    <tr>\n",
       "      <th>13</th>\n",
       "      <td>LOS ANGELES</td>\n",
       "      <td>241</td>\n",
       "      <td>0.326116</td>\n",
       "    </tr>\n",
       "    <tr>\n",
       "      <th>28</th>\n",
       "      <td>SAN DIEGO</td>\n",
       "      <td>61</td>\n",
       "      <td>0.082544</td>\n",
       "    </tr>\n",
       "    <tr>\n",
       "      <th>22</th>\n",
       "      <td>ORANGE</td>\n",
       "      <td>56</td>\n",
       "      <td>0.075778</td>\n",
       "    </tr>\n",
       "    <tr>\n",
       "      <th>26</th>\n",
       "      <td>SACRAMENTO</td>\n",
       "      <td>42</td>\n",
       "      <td>0.056834</td>\n",
       "    </tr>\n",
       "    <tr>\n",
       "      <th>27</th>\n",
       "      <td>SAN BERNARDINO</td>\n",
       "      <td>25</td>\n",
       "      <td>0.033829</td>\n",
       "    </tr>\n",
       "  </tbody>\n",
       "</table>\n",
       "</div>"
      ],
      "text/plain": [
       "            county  school_code   percent\n",
       "13     LOS ANGELES          241  0.326116\n",
       "28       SAN DIEGO           61  0.082544\n",
       "22          ORANGE           56  0.075778\n",
       "26      SACRAMENTO           42  0.056834\n",
       "27  SAN BERNARDINO           25  0.033829"
      ]
     },
     "execution_count": 37,
     "metadata": {},
     "output_type": "execute_result"
    }
   ],
   "source": [
    "under_90_by_county.sort_values(\"percent\", ascending=False).head()"
   ]
  },
  {
   "cell_type": "markdown",
   "metadata": {},
   "source": [
    "#### Finding: Seven of 46 kindergartners at Innovations Academy had medical exemptions last year. State data show there were no exemptions in the previous year."
   ]
  },
  {
   "cell_type": "code",
   "execution_count": 38,
   "metadata": {},
   "outputs": [
    {
     "data": {
      "text/html": [
       "<div>\n",
       "<style>\n",
       "    .dataframe thead tr:only-child th {\n",
       "        text-align: right;\n",
       "    }\n",
       "\n",
       "    .dataframe thead th {\n",
       "        text-align: left;\n",
       "    }\n",
       "\n",
       "    .dataframe tbody tr th {\n",
       "        vertical-align: top;\n",
       "    }\n",
       "</style>\n",
       "<table border=\"1\" class=\"dataframe\">\n",
       "  <thead>\n",
       "    <tr style=\"text-align: right;\">\n",
       "      <th></th>\n",
       "      <th>name</th>\n",
       "      <th>county</th>\n",
       "      <th>enrollment</th>\n",
       "      <th>number_up_to_date</th>\n",
       "      <th>number_permanent_medical_exemption</th>\n",
       "      <th>number_personal_belief_exemption</th>\n",
       "      <th>percent_up_to_date</th>\n",
       "    </tr>\n",
       "  </thead>\n",
       "  <tbody>\n",
       "    <tr>\n",
       "      <th>5034</th>\n",
       "      <td>INNOVATIONS ACADEMY</td>\n",
       "      <td>SAN DIEGO</td>\n",
       "      <td>46.0</td>\n",
       "      <td>35</td>\n",
       "      <td>7</td>\n",
       "      <td>0</td>\n",
       "      <td>76</td>\n",
       "    </tr>\n",
       "  </tbody>\n",
       "</table>\n",
       "</div>"
      ],
      "text/plain": [
       "                     name     county  enrollment number_up_to_date  \\\n",
       "5034  INNOVATIONS ACADEMY  SAN DIEGO        46.0                35   \n",
       "\n",
       "     number_permanent_medical_exemption number_personal_belief_exemption  \\\n",
       "5034                                  7                                0   \n",
       "\n",
       "     percent_up_to_date  \n",
       "5034                 76  "
      ]
     },
     "execution_count": 38,
     "metadata": {},
     "output_type": "execute_result"
    }
   ],
   "source": [
    "analysis_df[analysis_df.name == 'INNOVATIONS ACADEMY'][[\n",
    "    'name',\n",
    "    'county',\n",
    "    'enrollment',\n",
    "    'number_up_to_date',\n",
    "    'number_permanent_medical_exemption',\n",
    "    'number_personal_belief_exemption',\n",
    "    'percent_up_to_date'\n",
    "]]"
   ]
  },
  {
   "cell_type": "markdown",
   "metadata": {
    "collapsed": true
   },
   "source": [
    "### Export data for online search"
   ]
  },
  {
   "cell_type": "markdown",
   "metadata": {},
   "source": [
    "Finally we output data to power a searchable database at [spreadsheets.latimes.com/vaccination-rates-1617/](http://spreadsheets.latimes.com/vaccination-rates-1617/)."
   ]
  },
  {
   "cell_type": "markdown",
   "metadata": {},
   "source": [
    "Trim the columns downj to the ones we want to keep."
   ]
  },
  {
   "cell_type": "code",
   "execution_count": 39,
   "metadata": {
    "collapsed": true
   },
   "outputs": [],
   "source": [
    "search_df = raw_df[[\n",
    "    'name',\n",
    "    'county',\n",
    "    'enrollment',\n",
    "    'percent_permanent_medical_exemption',\n",
    "    'percent_up_to_date',\n",
    "]]"
   ]
  },
  {
   "cell_type": "markdown",
   "metadata": {},
   "source": [
    "Substitute in a human readable null value."
   ]
  },
  {
   "cell_type": "code",
   "execution_count": 44,
   "metadata": {},
   "outputs": [],
   "source": [
    "search_df.fillna(\"N/A\", inplace=True)"
   ]
  },
  {
   "cell_type": "code",
   "execution_count": 45,
   "metadata": {},
   "outputs": [],
   "source": [
    "search_df.percent_permanent_medical_exemption = search_df.percent_permanent_medical_exemption.str.replace(\".\", \"N/A\").str.strip()\n",
    "search_df.percent_up_to_date = search_df.percent_up_to_date.str.replace(\".\", \"N/A\").str.strip()"
   ]
  },
  {
   "cell_type": "markdown",
   "metadata": {},
   "source": [
    "Convert the obscured values into HTML entities."
   ]
  },
  {
   "cell_type": "code",
   "execution_count": 46,
   "metadata": {
    "collapsed": true
   },
   "outputs": [],
   "source": [
    "search_df.percent_permanent_medical_exemption = search_df.percent_permanent_medical_exemption.str.replace(\"%\", \"\")\n",
    "search_df.percent_up_to_date = search_df.percent_up_to_date.str.replace(\"%\", \"\")"
   ]
  },
  {
   "cell_type": "code",
   "execution_count": 47,
   "metadata": {
    "collapsed": true
   },
   "outputs": [],
   "source": [
    "search_df.percent_permanent_medical_exemption = search_df.percent_permanent_medical_exemption.str.replace(\"≤\", \"&lt;\")\n",
    "search_df.percent_up_to_date = search_df.percent_up_to_date.str.replace(\"≥\", \"&gt;\")"
   ]
  },
  {
   "cell_type": "code",
   "execution_count": 48,
   "metadata": {
    "collapsed": true
   },
   "outputs": [],
   "source": [
    "search_df.percent_permanent_medical_exemption = search_df.percent_permanent_medical_exemption.str.replace(\"≤\", \"&lt;\")\n",
    "search_df.percent_up_to_date = search_df.percent_up_to_date.str.replace(\"≥\", \"&gt;\")"
   ]
  },
  {
   "cell_type": "markdown",
   "metadata": {},
   "source": [
    "Convert the column headers into more readable language."
   ]
  },
  {
   "cell_type": "code",
   "execution_count": 49,
   "metadata": {
    "collapsed": true
   },
   "outputs": [],
   "source": [
    "search_df.columns = [\n",
    "    \"Name\",\n",
    "    \"County\",\n",
    "    \"Enrollment\",\n",
    "    \"Medical exemptions (%)\",\n",
    "    \"Up to date (%)\"\n",
    "]"
   ]
  },
  {
   "cell_type": "markdown",
   "metadata": {},
   "source": [
    "Write the data out to a comma-delimited file"
   ]
  },
  {
   "cell_type": "code",
   "execution_count": 50,
   "metadata": {
    "collapsed": true
   },
   "outputs": [],
   "source": [
    "search_df.sort_values([\"County\", \"Name\"]).to_csv(\"./output/search.csv\", index=False, encoding=\"utf-8\")"
   ]
  }
 ],
 "metadata": {
  "kernelspec": {
   "display_name": "Python 2",
   "language": "python",
   "name": "python2"
  },
  "language_info": {
   "codemirror_mode": {
    "name": "ipython",
    "version": 2
   },
   "file_extension": ".py",
   "mimetype": "text/x-python",
   "name": "python",
   "nbconvert_exporter": "python",
   "pygments_lexer": "ipython2",
   "version": "2.7.12"
  }
 },
 "nbformat": 4,
 "nbformat_minor": 2
}
